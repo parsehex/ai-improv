{
 "cells": [
  {
   "cell_type": "code",
   "execution_count": null,
   "id": "4757cad1",
   "metadata": {},
   "outputs": [],
   "source": [
    "import config as cfg\n",
    "from stable_diffusion_cpp import StableDiffusion\n",
    "\n",
    "# adapted from README:\n",
    "\n",
    "\n",
    "def callback(step: int, steps: int, time: float):\n",
    "\tprint(\"Completed step: {} of {}\".format(step, steps))\n",
    "\n",
    "\n",
    "stable_diffusion = StableDiffusion(\n",
    "    model_path=cfg.IMAGE_MODEL,\n",
    "    verbose=False,\n",
    "    # wtype=\"default\", # Weight type (e.g. \"q8_0\", \"f16\", etc) (The \"default\" setting is automatically applied and determines the weight type of a model file)\n",
    ")\n"
   ]
  },
  {
   "cell_type": "code",
   "execution_count": null,
   "id": "aa0a815c",
   "metadata": {},
   "outputs": [],
   "source": [
    "output = stable_diffusion.txt_to_img(\n",
    "    prompt=\"a lovely cat\",\n",
    "    width=512,  # Must be a multiple of 64\n",
    "    height=512,  # Must be a multiple of 64\n",
    "    progress_callback=callback,  # Must have Verbose=True for this to fire\n",
    "    sample_steps=10,\n",
    "    # seed=1337, # Uncomment to set a specific seed (use -1 for a random seed)\n",
    ")\n",
    "output[0].save(\"../data/test.png\")  # Output returned as list of PIL Images\n",
    "\n",
    "from IPython.display import Image\n",
    "display(Image(data=output[0], format='png'))"
   ]
  }
 ],
 "metadata": {
  "language_info": {
   "name": "python"
  }
 },
 "nbformat": 4,
 "nbformat_minor": 5
}
