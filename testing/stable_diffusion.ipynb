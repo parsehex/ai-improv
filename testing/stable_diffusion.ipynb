{
 "cells": [
  {
   "cell_type": "code",
   "execution_count": null,
   "id": "4757cad1",
   "metadata": {},
   "outputs": [],
   "source": [
    "import sys, os\n",
    "\n",
    "current_dir = os.getcwd()\n",
    "parent_dir = os.path.abspath(os.path.join(current_dir, '..'))\n",
    "sys.path.append(parent_dir)\n",
    "\n",
    "from config import IMAGE_MODEL\n",
    "from stable_diffusion_cpp import StableDiffusion\n",
    "\n",
    "# adapted from README:\n",
    "\n",
    "\n",
    "def callback(step: int, steps: int, time: float):\n",
    "\tprint(\"Completed step: {} of {}\".format(step, steps))\n",
    "\n",
    "\n",
    "stable_diffusion = StableDiffusion(\n",
    "    model_path=IMAGE_MODEL,\n",
    "    verbose=False,\n",
    "    # wtype=\"default\", # Weight type (e.g. \"q8_0\", \"f16\", etc) (The \"default\" setting is automatically applied and determines the weight type of a model file)\n",
    ")\n"
   ]
  },
  {
   "cell_type": "code",
   "execution_count": null,
   "id": "aa0a815c",
   "metadata": {},
   "outputs": [],
   "source": [
    "output = stable_diffusion.txt_to_img(\n",
    "    prompt=\"a lovely cat\",\n",
    "    width=512,  # Must be a multiple of 64\n",
    "    height=512,  # Must be a multiple of 64\n",
    "    progress_callback=callback,  # Must have Verbose=True for this to fire\n",
    "    sample_steps=10,\n",
    "    # seed=1337, # Uncomment to set a specific seed (use -1 for a random seed)\n",
    ")\n",
    "# output[0].save(\"../data/test.png\")  # Output returned as list of PIL Images\n",
    "\n",
    "from IPython.display import display\n",
    "display(output[0])"
   ]
  }
 ],
 "metadata": {
  "kernelspec": {
   "display_name": "venv",
   "language": "python",
   "name": "python3"
  },
  "language_info": {
   "codemirror_mode": {
    "name": "ipython",
    "version": 3
   },
   "file_extension": ".py",
   "mimetype": "text/x-python",
   "name": "python",
   "nbconvert_exporter": "python",
   "pygments_lexer": "ipython3",
   "version": "3.11.9"
  }
 },
 "nbformat": 4,
 "nbformat_minor": 5
}
