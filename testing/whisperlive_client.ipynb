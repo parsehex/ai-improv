{
 "cells": [
  {
   "cell_type": "code",
   "execution_count": null,
   "id": "e8c10cd8",
   "metadata": {},
   "outputs": [],
   "source": [
    "from whisper_live.client import TranscriptionClient\n",
    "\n",
    "def transcription_cb(a, b):\n",
    "    # print(a)\n",
    "    print(b[-1:])\n",
    "\n",
    "client = TranscriptionClient(\n",
    "    \"192.168.0.217\",\n",
    "    # \"localhost\",\n",
    "    9090,\n",
    "    lang=\"en\",\n",
    "    translate=False,\n",
    "    model=\"medium.en\",\n",
    "    # model=\"small.en\",\n",
    "    use_vad=True,\n",
    "    # save_output_recording=True,\n",
    "    # output_recording_filename=\"./output_recording.wav\",\n",
    "    max_clients=4,\n",
    "    clip_audio=True,\n",
    "    max_connection_time=600,\n",
    "    transcription_callback=transcription_cb,\n",
    "    # log_transcription=False, # callback isn't called when False\n",
    "    mute_audio_playback=False,\n",
    ")\n",
    "client()"
   ]
  }
 ],
 "metadata": {
  "kernelspec": {
   "display_name": ".venv",
   "language": "python",
   "name": "python3"
  },
  "language_info": {
   "codemirror_mode": {
    "name": "ipython",
    "version": 3
   },
   "file_extension": ".py",
   "mimetype": "text/x-python",
   "name": "python",
   "nbconvert_exporter": "python",
   "pygments_lexer": "ipython3",
   "version": "3.10.15"
  }
 },
 "nbformat": 4,
 "nbformat_minor": 5
}
